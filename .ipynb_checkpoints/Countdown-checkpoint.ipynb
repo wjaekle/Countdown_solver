{
 "cells": [
  {
   "cell_type": "code",
   "execution_count": 1,
   "id": "4c4ca212-55d4-4c9e-a1cb-5bfc89fc5ddd",
   "metadata": {},
   "outputs": [],
   "source": [
    "#these are helper functions to help iterate over the operators.\n",
    "def add(a, b):\n",
    "    return a + b\n",
    "def sub(a, b):\n",
    "    return a - b\n",
    "def mult(a, b):\n",
    "    return a * b\n",
    "def div(a, b):\n",
    "    return a / b\n",
    "\n",
    "class Board():\n",
    "    \"\"\"Class Board is comprised of a list of Number objects defined below and the logic to combine Numbers\"\"\"\n",
    "    def __init__(self,ls): \n",
    "        self.numbers = ls\n",
    "        self.operations = {'+': add,'-': sub, '*':mult, '/': div}\n",
    "    def children(self):\n",
    "        \"\"\"Makes a list of all possible new boards which can be made by combining any two numbers using an operation,\n",
    "        All new boards will be one Number shorter\"\"\"\n",
    "        ls = []\n",
    "       \n",
    "        #iterates over all possible pairings of numbers and all operators, creating a child board for each pair\n",
    "        for i, number in enumerate(self.numbers): \n",
    "            for j, pairing in enumerate(self.numbers[i+1:]): \n",
    "                #number and pairing are two Number()s selected to combine with an op. \n",
    "                \n",
    "                for op in self.operations: #this loop can be refactored as it's now filled with ifs\n",
    "                    \n",
    "                    temp_list = [*self.numbers[:i], *self.numbers[i+1:j+i+1], *self.numbers[j+i+2:]] #a list excluding the pair\n",
    "                    \n",
    "                    if op in ['+','*']: #if the operator is communitive we dont need to include both orderings\n",
    "                        temp_list.append(self.operations[op](number, pairing))\n",
    "                        ls.append(Board(temp_list))\n",
    "                    \n",
    "                    elif op == '/': # div is not communitive and fractions are not allowed and unnecessary. \n",
    "                        if (number % pairing):\n",
    "                            temp_list.append(self.operations[op](number, pairing))\n",
    "                            ls.append(Board(temp_list))\n",
    "                        elif (pairing % number): #elif here to prevent duplicates when 2 of the same number is on the board\n",
    "                            temp_list.append(self.operations[op](pairing, number))\n",
    "                            ls.append(Board(temp_list))\n",
    "                    \n",
    "                    elif op == \"-\": #subtraction is not communitive and numbers < 1 are not helpful in solutions\n",
    "                        if number > pairing: \n",
    "                            temp_list.append(self.operations[op](number, pairing))\n",
    "                            ls.append(Board(temp_list))\n",
    "                        elif pairing > number:\n",
    "                            temp_list.append(self.operations[op](pairing, number))\n",
    "                            ls.append(Board(temp_list))\n",
    "        return ls\n",
    "    \n",
    "    def __str__(self): #for the string representation of the board, we want to return string of the numbers inside as well\n",
    "        return str([str(item) for item in self.numbers])\n",
    "    \n",
    "    def vals(self):\n",
    "        return [item.val for item in self.numbers] #for calculations, we don't need the solution path, we need numbers available\n",
    "\n",
    "class Number(): \n",
    "    \"\"\"Number() is comprised of a value and a string representation that can be made up of combinations\n",
    "    an example of these two attributes might be 3 and \"(4-1) = 3\" \"\"\"\n",
    "    #I learned about Super after writing this code, could be a cleaner implementation or an impossible hassle, but worth mentioning. \n",
    "    \n",
    "    def __init__(self,val, string_rep=False): \n",
    "        self.val = val\n",
    "       \n",
    "        if string_rep: #these if statements are purely so you can init a Number() with just an int without havign to rewrite it as a str\n",
    "            self.string_rep = string_rep \n",
    "        else:\n",
    "            self.string_rep = str(val)\n",
    "    \n",
    "    \n",
    "    def __add__(self,x):\n",
    "        return Number(self.val + x.val,f\"({self.string_rep} + {x.string_rep})\") #operators which log the solution path in string rep.\n",
    "    def __sub__(self,x):\n",
    "        return Number(self.val - x.val,f\"({self.string_rep} - {x.string_rep})\")\n",
    "    def __mul__(self,x):\n",
    "        return Number(self.val * x.val,f\"({self.string_rep} * {x.string_rep})\")\n",
    "    def __truediv__(self,x):\n",
    "        return Number(self.val // x.val,f\"({self.string_rep} / {x.string_rep})\")\n",
    "    \n",
    "    #these were made necessary for validity checks in board.children():\n",
    "    def __mod__(self,x): \n",
    "        return  not (self.val % x.val)\n",
    "    def __gt__(self,x):\n",
    "        return self.val > x.val\n",
    "             \n",
    "        \n",
    "    def __str__(self): #return the string representation with the convenience of its returned value\n",
    "        return self.string_rep + f\" = {self.val}\"\n"
   ]
  },
  {
   "cell_type": "code",
   "execution_count": 2,
   "id": "8d4fe04a-4c9c-4d0a-97db-b1b03044ada7",
   "metadata": {},
   "outputs": [],
   "source": [
    "small = [int(x/2) for x in range(2,21)] #list of the small number cards available during the show, 2 of each int under 10\n",
    "large = [25,50,75,100] #there are only 4 large cards in the show"
   ]
  },
  {
   "cell_type": "code",
   "execution_count": 3,
   "id": "3124cde1-526c-4bc2-afbb-23581efeb6de",
   "metadata": {},
   "outputs": [],
   "source": [
    "import random"
   ]
  },
  {
   "cell_type": "code",
   "execution_count": 4,
   "id": "b25e86b1-3336-4ad2-89e5-29baea17e322",
   "metadata": {},
   "outputs": [],
   "source": [
    "def gen_board(num_small,num_large): #generate a random board for use\n",
    "    nums = random.sample(small,num_small)  + random.sample(large, num_large)\n",
    "    return Board([Number(x) for x in nums])"
   ]
  },
  {
   "cell_type": "code",
   "execution_count": 5,
   "id": "9f8f4ba1-0bbb-4c0f-8691-c69429447fd9",
   "metadata": {},
   "outputs": [],
   "source": [
    "def solve_board(board,goal):\n",
    "    \"\"\" finds the earliest solution, or the closest and returns it as a string\"\"\"\n",
    "    gen = [board]\n",
    "    best = Number(-1000) #an initial best value that is sure to be replaced\n",
    "    \n",
    "    for _ in range(1,6): #we can only reduce a standard board 5 times before it's just one number;\n",
    "                        #for longer boards recursion is necessary\n",
    "        \n",
    "        genx = [item for x in gen for item in x.children()] # a flat list of all the children of the existing generation\n",
    "        \n",
    "        for board1 in genx:\n",
    "            for i in range(len(board1.vals())):\n",
    "                if goal == board1.vals()[i]:\n",
    "                    return str(board1.numbers[i])\n",
    "                if abs(goal-best.val) > abs(goal- board1.vals()[i]):\n",
    "                    best = board1.numbers[i]\n",
    "        gen = genx\n",
    "    return f\"Off by {abs(goal-best.val)}:\\n {best}\""
   ]
  },
  {
   "cell_type": "markdown",
   "id": "0271015d-5cf9-46ff-b2ad-b6f38dd2c09a",
   "metadata": {},
   "source": [
    "Here I'll note that the solver is nearly instant if you eliminate the logic associated with best guess, which is only rarely used.\n",
    "In practice one might consider running the whole solver loop twice once without best-logic and then once with.\n",
    "It seems wasteful but would likely save time as most boards would never hit the second loop. I haven't tried writing the lists to memeory and then searching for the best after the loop is finished, this could be faster as well. "
   ]
  },
  {
   "cell_type": "code",
   "execution_count": 6,
   "id": "4cefe0ef-1fe6-435c-88d6-1054ae414320",
   "metadata": {},
   "outputs": [
    {
     "name": "stdout",
     "output_type": "stream",
     "text": [
      "goal = 215\n",
      "board = [3, 8, 9, 4, 100, 50]\n",
      "\n",
      "Try to solve it yourself before running the next cell :)\n"
     ]
    }
   ],
   "source": [
    "# test out our board generator and solver:\n",
    "\n",
    "board = gen_board(4,2) #make a board with 4 small and 2 large, a common configuration.\n",
    "goal = random.randint(100,999) #pick a random goal\n",
    "print(f\"{goal = }\")\n",
    "print(f\"board = {[item.val for item in board.numbers]}\")\n",
    "print(\"\\nTry to solve it yourself before running the next cell :)\")"
   ]
  },
  {
   "cell_type": "code",
   "execution_count": 7,
   "id": "b34e2f03-d16b-4fd4-99a4-8eae67f5f55e",
   "metadata": {},
   "outputs": [
    {
     "name": "stdout",
     "output_type": "stream",
     "text": [
      "(((3 * 8) - 9) + (4 * 50)) = 215\n"
     ]
    }
   ],
   "source": [
    "print(solve_board(board,goal)) "
   ]
  },
  {
   "cell_type": "code",
   "execution_count": 8,
   "id": "c14a0b00-eb9f-433a-8f91-f764943d42ba",
   "metadata": {},
   "outputs": [
    {
     "name": "stdout",
     "output_type": "stream",
     "text": [
      "goal = 250\n",
      "board = [1, 1, 3, 9, 100, 50]\n",
      "((3 * 100) - 50) = 250\n",
      "\n",
      "goal = 890\n",
      "board = [4, 8, 9, 2, 100, 75]\n",
      "((9 * 100) - (8 + 2)) = 890\n",
      "\n",
      "goal = 169\n",
      "board = [1, 8, 9, 2, 100, 25]\n",
      "(25 + (2 * (8 * 9))) = 169\n",
      "\n",
      "goal = 258\n",
      "board = [7, 9, 5, 5, 25, 100]\n",
      "((9 * (5 + 25)) - (7 + 5)) = 258\n",
      "\n",
      "goal = 710\n",
      "board = [2, 2, 9, 7, 50, 100]\n",
      "((9 + (2 / 2)) + (7 * 100)) = 710\n",
      "\n",
      "goal = 498\n",
      "board = [7, 10, 9, 5, 25, 50]\n",
      "((10 * 50) - (9 - 7)) = 498\n",
      "\n",
      "goal = 224\n",
      "board = [10, 2, 7, 9, 25, 100]\n",
      "((2 * 7) * (25 - 9)) = 224\n",
      "\n",
      "goal = 179\n",
      "board = [4, 9, 8, 7, 25, 100]\n",
      "(4 + (7 * 25)) = 179\n",
      "\n",
      "goal = 369\n",
      "board = [3, 1, 6, 7, 100, 50]\n",
      "(((3 + 1) * (100 - 6)) - 7) = 369\n",
      "\n",
      "goal = 892\n",
      "board = [2, 1, 2, 6, 75, 100]\n",
      "((6 * ((2 * 75) - 1)) - 2) = 892\n",
      "\n"
     ]
    }
   ],
   "source": [
    "for _ in range(10): #print out n boards and solutions for fun\n",
    "    board = gen_board(4,2)\n",
    "    goal = random.randint(100,999)\n",
    "    print(f\"{goal = }\")\n",
    "    print(f\"board = {[item.val for item in board.numbers]}\")\n",
    "    print(solve_board(board,goal), end = \"\\n\\n\")"
   ]
  },
  {
   "cell_type": "code",
   "execution_count": 9,
   "id": "7f10e0df-a596-41c7-9013-1447bbd2aa99",
   "metadata": {},
   "outputs": [
    {
     "name": "stdout",
     "output_type": "stream",
     "text": [
      "goal = 659\n",
      "board = [100, 8, 4, 3, 1, 9]\n"
     ]
    }
   ],
   "source": [
    "#a custom environemnt to play with or plug in numbers from the real show.\n",
    "\n",
    "readable_board = [100,8,4,3,1,9]\n",
    "goal = 659\n",
    "\n",
    "board = Board([Number(x) for x in readable_board])\n",
    "print(f\"{goal = }\")\n",
    "print(f\"board = {[item.val for item in board.numbers]}\")"
   ]
  },
  {
   "cell_type": "code",
   "execution_count": 10,
   "id": "c71e1298-5c0e-4b8c-bf88-4ba0ccd2904e",
   "metadata": {},
   "outputs": [
    {
     "name": "stdout",
     "output_type": "stream",
     "text": [
      "(3 + (4 * (100 + (8 * (9 - 1))))) = 659\n"
     ]
    }
   ],
   "source": [
    "print(solve_board(board,goal))"
   ]
  }
 ],
 "metadata": {
  "kernelspec": {
   "display_name": "Python 3 (ipykernel)",
   "language": "python",
   "name": "python3"
  },
  "language_info": {
   "codemirror_mode": {
    "name": "ipython",
    "version": 3
   },
   "file_extension": ".py",
   "mimetype": "text/x-python",
   "name": "python",
   "nbconvert_exporter": "python",
   "pygments_lexer": "ipython3",
   "version": "3.9.7"
  }
 },
 "nbformat": 4,
 "nbformat_minor": 5
}
